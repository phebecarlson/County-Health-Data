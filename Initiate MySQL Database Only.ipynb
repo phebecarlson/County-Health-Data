{
 "cells": [
  {
   "cell_type": "markdown",
   "id": "0d7551ae",
   "metadata": {},
   "source": [
    "Creating database with mysql connector"
   ]
  },
  {
   "cell_type": "code",
   "execution_count": 1,
   "id": "4ebb836e",
   "metadata": {},
   "outputs": [
    {
     "name": "stdout",
     "output_type": "stream",
     "text": [
      "<mysql.connector.connection_cext.CMySQLConnection object at 0x105dda160>\n"
     ]
    }
   ],
   "source": [
    "import mysql.connector\n",
    "\n",
    "# don't save password to github\n",
    "pwd = \"cgCbH^1hUx*cFZ5n\"\n",
    "\n",
    "mydb = mysql.connector.connect(\n",
    "  host=\"localhost\",\n",
    "  user=\"root\",\n",
    "  password=pwd,\n",
    "  #auth_plugin='mysql_native_password'\n",
    ")\n",
    "\n",
    "print(mydb)"
   ]
  },
  {
   "cell_type": "code",
   "execution_count": 2,
   "id": "0e98013c",
   "metadata": {},
   "outputs": [],
   "source": [
    "mycursor = mydb.cursor()\n",
    "\n",
    "mycursor.execute(\"CREATE DATABASE countyhealthdb\")"
   ]
  },
  {
   "cell_type": "markdown",
   "id": "1f939bf0",
   "metadata": {},
   "source": [
    "Import the County Health Data csv into mysql in another notebook"
   ]
  },
  {
   "cell_type": "code",
   "execution_count": null,
   "id": "020f50f9",
   "metadata": {},
   "outputs": [],
   "source": []
  },
  {
   "cell_type": "code",
   "execution_count": null,
   "id": "71714079",
   "metadata": {},
   "outputs": [],
   "source": []
  }
 ],
 "metadata": {
  "kernelspec": {
   "display_name": "Python 3 (ipykernel)",
   "language": "python",
   "name": "python3"
  },
  "language_info": {
   "codemirror_mode": {
    "name": "ipython",
    "version": 3
   },
   "file_extension": ".py",
   "mimetype": "text/x-python",
   "name": "python",
   "nbconvert_exporter": "python",
   "pygments_lexer": "ipython3",
   "version": "3.8.13"
  }
 },
 "nbformat": 4,
 "nbformat_minor": 5
}
